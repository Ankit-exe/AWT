{
  "nbformat": 4,
  "nbformat_minor": 0,
  "metadata": {
    "colab": {
      "provenance": [],
      "authorship_tag": "ABX9TyN9sQb6/PLJBf1L8yS7ZQP1",
      "include_colab_link": true
    },
    "kernelspec": {
      "name": "python3",
      "display_name": "Python 3"
    },
    "language_info": {
      "name": "python"
    }
  },
  "cells": [
    {
      "cell_type": "markdown",
      "metadata": {
        "id": "view-in-github",
        "colab_type": "text"
      },
      "source": [
        "<a href=\"https://colab.research.google.com/github/Ankit-exe/AWT/blob/main/01_pytorch_workflow.ipynb\" target=\"_parent\"><img src=\"https://colab.research.google.com/assets/colab-badge.svg\" alt=\"Open In Colab\"/></a>"
      ]
    },
    {
      "cell_type": "markdown",
      "source": [
        "# PyTorch Workflow\n",
        "\n",
        "Lets explore a an example Pytorch end-toend workflow"
      ],
      "metadata": {
        "id": "ycXne9XjHMIN"
      }
    },
    {
      "cell_type": "code",
      "source": [
        "what_were_covering = {1:\"data (prepare and load)\",\n",
        "                      2:\"build model\",\n",
        "                      3:\"fitting the model to data(training)\",\n",
        "                      4:\"making predictions and evaluatuiing a model(inference)\",\n",
        "                      5:\"saving and loading model\",\n",
        "                      6:\"putting it all together\"}\n",
        "what_were_covering"
      ],
      "metadata": {
        "colab": {
          "base_uri": "https://localhost:8080/"
        },
        "id": "19-YuQzMoyrL",
        "outputId": "302b0669-5f49-4ee2-87ef-84760c23441d"
      },
      "execution_count": null,
      "outputs": [
        {
          "output_type": "execute_result",
          "data": {
            "text/plain": [
              "{1: 'data (prepare and load)',\n",
              " 2: 'build model',\n",
              " 3: 'fitting the model to data(training)',\n",
              " 4: 'making predictions and evaluatuiing a model(inference)',\n",
              " 5: 'saving and loading model',\n",
              " 6: 'putting it all together'}"
            ]
          },
          "metadata": {},
          "execution_count": 1
        }
      ]
    },
    {
      "cell_type": "code",
      "source": [
        "import torch\n",
        "from torch import nn # nn contains all of PyTorch's building blocks for neural networks\n",
        "import matplotlib.pyplot as plt\n",
        "\n",
        "\n",
        "# Check pytorch version\n",
        "torch.__version__"
      ],
      "metadata": {
        "colab": {
          "base_uri": "https://localhost:8080/",
          "height": 35
        },
        "id": "3EApLDrDpnzz",
        "outputId": "7a1b0ab3-4cf3-44cb-ea48-46c4289f7fe1"
      },
      "execution_count": null,
      "outputs": [
        {
          "output_type": "execute_result",
          "data": {
            "text/plain": [
              "'2.6.0+cu124'"
            ],
            "application/vnd.google.colaboratory.intrinsic+json": {
              "type": "string"
            }
          },
          "metadata": {},
          "execution_count": 2
        }
      ]
    },
    {
      "cell_type": "markdown",
      "source": [
        "## 1. Data (preparing and loading)\n",
        "\n",
        "Machine learining is a game of two parts:\n",
        "1. Get data into a numerical representation\n",
        "2. Build a model to learn patterns in that numerical representaions."
      ],
      "metadata": {
        "id": "QspYu8Hb-DQ3"
      }
    },
    {
      "cell_type": "code",
      "source": [
        "# Create *known* parameters\n",
        "weight = 0.7\n",
        "bias = 0.3\n",
        "\n",
        "# Create\n",
        "start =0\n",
        "end = 1\n",
        "step = 0.02\n",
        "X = torch.arange(start, end, step).unsqueeze(dim=1)\n",
        "y = weight * X + bias\n",
        "\n",
        "X[:10], y[:10]"
      ],
      "metadata": {
        "id": "UHbC-oAz-VH6",
        "colab": {
          "base_uri": "https://localhost:8080/"
        },
        "outputId": "7bd886a2-b5d7-4533-8eeb-4d8f216d74ba"
      },
      "execution_count": null,
      "outputs": [
        {
          "output_type": "execute_result",
          "data": {
            "text/plain": [
              "(tensor([[0.0000],\n",
              "         [0.0200],\n",
              "         [0.0400],\n",
              "         [0.0600],\n",
              "         [0.0800],\n",
              "         [0.1000],\n",
              "         [0.1200],\n",
              "         [0.1400],\n",
              "         [0.1600],\n",
              "         [0.1800]]),\n",
              " tensor([[0.3000],\n",
              "         [0.3140],\n",
              "         [0.3280],\n",
              "         [0.3420],\n",
              "         [0.3560],\n",
              "         [0.3700],\n",
              "         [0.3840],\n",
              "         [0.3980],\n",
              "         [0.4120],\n",
              "         [0.4260]]))"
            ]
          },
          "metadata": {},
          "execution_count": 3
        }
      ]
    },
    {
      "cell_type": "code",
      "source": [
        "# Splitting data into training and testing set\n",
        "\n",
        "train_split = int(0.8 * len(X))\n",
        "X_train , y_train = X[:train_split] , y[:train_split]\n",
        "X_test , y_test = X[train_split:], y[train_split:]\n",
        "\n",
        "len(X_train), len(y_train), len(X_test), len(y_test)"
      ],
      "metadata": {
        "colab": {
          "base_uri": "https://localhost:8080/"
        },
        "id": "EajYwFxqGMs1",
        "outputId": "62c6da9c-d59f-4f73-9620-90f3aefcb966"
      },
      "execution_count": null,
      "outputs": [
        {
          "output_type": "execute_result",
          "data": {
            "text/plain": [
              "(40, 40, 10, 10)"
            ]
          },
          "metadata": {},
          "execution_count": 4
        }
      ]
    },
    {
      "cell_type": "code",
      "source": [
        "def plot_predictions(train_data = X_train,\n",
        "                     train_labels = y_train,\n",
        "                     test_data = X_test,\n",
        "                     test_labels = y_test,\n",
        "                     predictions = None):\n",
        "\n",
        "\n",
        "  \"\"\"\n",
        "  Plots training data, test data and compare the predictions.\n",
        "\n",
        "  \"\"\"\n",
        "\n",
        "  plt.figure(figsize=(10,7))\n",
        "  plt.scatter(train_data, train_labels , c =\"b\", s=4, label=\"Training data\")\n",
        "  plt.scatter(test_data, test_labels , c =\"g\", s=4, label=\"Testing data\")\n",
        "\n",
        "  if predictions is not None:\n",
        "    plt.scatter(test_data, predictions, c=\"r\" , label=\"Predictions\")\n",
        "\n",
        "  plt.legend(prop={\"size\":14});\n",
        "\n",
        "plot_predictions()"
      ],
      "metadata": {
        "id": "Cu41y0rsGlM3",
        "colab": {
          "base_uri": "https://localhost:8080/",
          "height": 479
        },
        "outputId": "783aecc3-388e-479a-dc04-fb29a7c98f9d"
      },
      "execution_count": null,
      "outputs": [
        {
          "output_type": "display_data",
          "data": {
            "text/plain": [
              "<Figure size 1000x700 with 1 Axes>"
            ],
            "image/png": "[encoded data removed]"
          },
          "metadata": {}
        }
      ]
    },
    {
      "cell_type": "markdown",
      "source": [
        "## 2. Build model\n",
        " Our first pytorch model\n"
      ],
      "metadata": {
        "id": "8w-2jZI8NG8_"
      }
    },
    {
      "cell_type": "code",
      "source": [
        "# Create linear regression model class\n",
        "\n",
        "class LinearRegressionModel(nn.Module): #Almost everything in Pytorch inherits from nn.Module\n",
        "  def __init__(self):\n",
        "    super().__init__()\n",
        "    self.weights = nn.Parameter(torch.randn(1, requires_grad= True,\n",
        "                                            dtype = torch.float))\n",
        "    self.bias = nn.Parameter(torch.randn(1,\n",
        "                                         requires_grad =True,\n",
        "                                         dtype =torch.float))\n",
        "\n",
        "  def forward(self,x:torch.Tensor) -> torch.Tensor: # <- \"x\" is the input data\n",
        "    return self.weights * x + self.bias # this is the linear regression formula"
      ],
      "metadata": {
        "id": "1zHTA3_BQLpu"
      },
      "execution_count": null,
      "outputs": []
    },
    {
      "cell_type": "markdown",
      "source": [
        "### Pytorch model building essentials\n",
        "* torch.nn - contains the building for computational graph\n",
        "* torch.nn.Parameter - what parameters should our model try and learn\n",
        "* torch.nn.Module - The base class for all neural network modules, If you subclass it, you should overwrite forward()\n",
        "* torch.optim - this where the optimizer in PyTorch live, they will help with gradient descent\n",
        "* def forward() - All nn.Module subclasses requires you to overrides\n"
      ],
      "metadata": {
        "id": "B5KNJWmXWdkY"
      }
    },
    {
      "cell_type": "markdown",
      "source": [
        "## Checking the content of our PyTorch model"
      ],
      "metadata": {
        "id": "OPr3bjB5XuhU"
      }
    },
    {
      "cell_type": "code",
      "source": [
        "# Create a random seed\n",
        "torch.manual_seed(42)\n",
        "\n",
        "# Create an instance of the model (this is a subclass of nn.Module)\n",
        "model_0 = LinearRegressionModel()\n",
        "# Check out the parameters\n",
        "list(model_0.parameters())"
      ],
      "metadata": {
        "colab": {
          "base_uri": "https://localhost:8080/"
        },
        "id": "CoUrPyBQYjVy",
        "outputId": "4ea68496-f4dd-4854-c44d-0f1d142a8f30"
      },
      "execution_count": null,
      "outputs": [
        {
          "output_type": "execute_result",
          "data": {
            "text/plain": [
              "[Parameter containing:\n",
              " tensor([0.3367], requires_grad=True),\n",
              " Parameter containing:\n",
              " tensor([0.1288], requires_grad=True)]"
            ]
          },
          "metadata": {},
          "execution_count": 7
        }
      ]
    },
    {
      "cell_type": "code",
      "source": [
        "# List named parameters\n",
        "model_0.state_dict()"
      ],
      "metadata": {
        "id": "RT2GeUcKY4nr",
        "colab": {
          "base_uri": "https://localhost:8080/"
        },
        "outputId": "82f7a8e7-db65-472e-9151-6d35851de719"
      },
      "execution_count": null,
      "outputs": [
        {
          "output_type": "execute_result",
          "data": {
            "text/plain": [
              "OrderedDict([('weights', tensor([0.3367])), ('bias', tensor([0.1288]))])"
            ]
          },
          "metadata": {},
          "execution_count": 8
        }
      ]
    },
    {
      "cell_type": "markdown",
      "source": [
        "### Making predictions using `torch.inference_mode()`\n",
        "\n",
        "To check our models predictive power, lets see how well it predicts `y_test` based on  `X_test`.\n",
        "\n",
        "When we pass data through our model, its going to runit through 'forward()' method\n"
      ],
      "metadata": {
        "id": "1K4BE2idH87n"
      }
    },
    {
      "cell_type": "code",
      "source": [
        "X_test , y_test"
      ],
      "metadata": {
        "colab": {
          "base_uri": "https://localhost:8080/"
        },
        "id": "uaWWBpIAKBZP",
        "outputId": "dcfed478-6e8f-4f46-d5a7-be2ffe82366f"
      },
      "execution_count": null,
      "outputs": [
        {
          "output_type": "execute_result",
          "data": {
            "text/plain": [
              "(tensor([[0.8000],\n",
              "         [0.8200],\n",
              "         [0.8400],\n",
              "         [0.8600],\n",
              "         [0.8800],\n",
              "         [0.9000],\n",
              "         [0.9200],\n",
              "         [0.9400],\n",
              "         [0.9600],\n",
              "         [0.9800]]),\n",
              " tensor([[0.8600],\n",
              "         [0.8740],\n",
              "         [0.8880],\n",
              "         [0.9020],\n",
              "         [0.9160],\n",
              "         [0.9300],\n",
              "         [0.9440],\n",
              "         [0.9580],\n",
              "         [0.9720],\n",
              "         [0.9860]]))"
            ]
          },
          "metadata": {},
          "execution_count": 9
        }
      ]
    },
    {
      "cell_type": "code",
      "source": [
        "# Making predictions with model\n",
        "with torch.inference_mode():\n",
        "  y_preds = model_0(X_test)\n",
        "\n",
        "y_preds"
      ],
      "metadata": {
        "colab": {
          "base_uri": "https://localhost:8080/"
        },
        "id": "CnZpPguoJTFI",
        "outputId": "465fe05c-5fd0-4f9d-ddae-c23eeb05655c"
      },
      "execution_count": null,
      "outputs": [
        {
          "output_type": "execute_result",
          "data": {
            "text/plain": [
              "tensor([[0.3982],\n",
              "        [0.4049],\n",
              "        [0.4116],\n",
              "        [0.4184],\n",
              "        [0.4251],\n",
              "        [0.4318],\n",
              "        [0.4386],\n",
              "        [0.4453],\n",
              "        [0.4520],\n",
              "        [0.4588]])"
            ]
          },
          "metadata": {},
          "execution_count": 10
        }
      ]
    },
    {
      "cell_type": "code",
      "source": [
        "plot_predictions(predictions=y_preds)"
      ],
      "metadata": {
        "colab": {
          "base_uri": "https://localhost:8080/",
          "height": 479
        },
        "id": "-Ha2Ws6WJkSM",
        "outputId": "90a3ca7f-61fe-479c-d5ca-801846dfc135"
      },
      "execution_count": null,
      "outputs": [
        {
          "output_type": "display_data",
          "data": {
            "text/plain": [
              "<Figure size 1000x700 with 1 Axes>"
            ],
            "image/png": "[encoded data removed]"
          },
          "metadata": {}
        }
      ]
    },
    {
      "cell_type": "markdown",
      "source": [
        "## 3. Train Model\n",
        "\n",
        "The world idea of training is for a model to move from some *unknown* parameters (these may be random) to some *known* parameters.\n",
        "\n",
        "One way to measure how poor or how wrong your models is by using LossFunctions\n",
        "\n",
        "Note : Loss function may also be called cost function or criterion in different areas. FOr our case, we are goinf to refer it as a loss function.\n",
        "\n",
        "* **Loss function:** A function measures how wrong is our model from the original data (lower is better)\n",
        "\n",
        "* **Optimizer:** Takes into account the loss of a model and adjusts the models parameters (e.g. weight & bias)\n",
        "\n",
        "And specifically for PyTorch,we need:\n",
        "* A training loop\n",
        "* A testing loop\n"
      ],
      "metadata": {
        "id": "CcHgZzWDMB3H"
      }
    },
    {
      "cell_type": "code",
      "source": [
        "list(model_0.parameters())"
      ],
      "metadata": {
        "colab": {
          "base_uri": "https://localhost:8080/"
        },
        "id": "SkEPX9h1cJtB",
        "outputId": "b20c0e18-7c49-44a5-d784-4efd427ad3dc"
      },
      "execution_count": null,
      "outputs": [
        {
          "output_type": "execute_result",
          "data": {
            "text/plain": [
              "[Parameter containing:\n",
              " tensor([0.3367], requires_grad=True),\n",
              " Parameter containing:\n",
              " tensor([0.1288], requires_grad=True)]"
            ]
          },
          "metadata": {},
          "execution_count": 12
        }
      ]
    },
    {
      "cell_type": "code",
      "source": [
        "model_0.state_dict()"
      ],
      "metadata": {
        "colab": {
          "base_uri": "https://localhost:8080/"
        },
        "id": "1viz3e6ndPed",
        "outputId": "4a6f8edb-44db-47cf-80b5-aed711886cc6"
      },
      "execution_count": null,
      "outputs": [
        {
          "output_type": "execute_result",
          "data": {
            "text/plain": [
              "OrderedDict([('weights', tensor([0.3367])), ('bias', tensor([0.1288]))])"
            ]
          },
          "metadata": {},
          "execution_count": 13
        }
      ]
    },
    {
      "cell_type": "code",
      "source": [
        "# Setup a loss function\n",
        "loss_fn = nn.L1Loss()\n",
        "\n",
        "# Setup an Optimizer (stochastic gradient descent)\n",
        "optimizer = torch.optim.SGD(params = model_0.parameters(),\n",
        "                            lr = 0.01) # lr - learning rate = most imp learing hyperparameter you can set"
      ],
      "metadata": {
        "id": "unvIJM0RdUcj"
      },
      "execution_count": null,
      "outputs": []
    },
    {
      "cell_type": "markdown",
      "source": [
        "***Q:*** Which loss function optimizer should i use?\n",
        "***A:*** This will be problem specific. But with experience we will get there\n",
        "\n",
        "for e.g For Regression Problem, aloss function of `nn.L1Loss()` and oprimizer like `torch.optim.SGD()` will suffice.\n",
        "\n",
        "But for a classification problem like classifying whether a photo os of a dog or a cat youll likelt want to use a loss function of `nn.BCWLoss()` (binary cross entropy loss)"
      ],
      "metadata": {
        "id": "NGyO1NhyhhHb"
      }
    },
    {
      "cell_type": "markdown",
      "source": [
        "## Building a trainig loop (and a testing loop) in PyTorch\n",
        "\n",
        "A Couple of things we need in a training loop:\n",
        "0. Loop through the data\n",
        "1. Forward pass (forward propagation)\n",
        "2. Calculate the loss\n",
        "3. Optimizer zero grad\n",
        "4. Loss backward - move backward through the network to calculate the gradients of each of the parameters of our model with respect to loss\n",
        "5. Optimizer step\n"
      ],
      "metadata": {
        "id": "hC8BvKJydcKe"
      }
    },
    {
      "cell_type": "code",
      "source": [
        "# An epoch is one loop through the data(this is a hyperparameter beacuse we set it)\n",
        "epochs = 1\n",
        "\n",
        "### Training\n",
        "# 0. Loop through the data\n",
        "for epochs in range(epochs):\n",
        "  # Set the model to training mode\n",
        "  model_0.train() # train mode in Pytorch set all the parameters that require gradients to require gradient\n",
        "\n",
        "  # 1. Forward pass\n",
        "  y_pred = model_0(X_train)\n",
        "\n",
        "  # 2. Calculate the loss\n",
        "  loss = loss_fn(y_pred, y_train)\n",
        "\n",
        "  # 3. Optimize zero grad\n",
        "  optimizer.zero_grad()\n",
        "\n",
        "  # 4. Perform backward propagation on the loss wrt the parameters of the model\n",
        "  loss.backward()\n",
        "\n",
        "  # 5. Step the optimizer (perform gradient descent)\n",
        "  optimizer.step() # by default how the optimizer changes will accumulate through the loop so we have to zero them in step 3 for the next iteration of the loop\n",
        "\n",
        "  model_0.eval() # turns off gradient tracking\n",
        "\n",
        "\n"
      ],
      "metadata": {
        "id": "Lb7ZV60oemwD"
      },
      "execution_count": null,
      "outputs": []
    },
    {
      "cell_type": "code",
      "source": [],
      "metadata": {
        "id": "VLJ4HBIVfW9Z"
      },
      "execution_count": null,
      "outputs": []
    }
  ]
}